{
  "nbformat": 4,
  "nbformat_minor": 0,
  "metadata": {
    "language_info": {
      "codemirror_mode": {
        "name": "ipython",
        "version": 3
      },
      "file_extension": ".py",
      "mimetype": "text/x-python",
      "name": "python",
      "nbconvert_exporter": "python",
      "pygments_lexer": "ipython3",
      "version": "3.7.9-final"
    },
    "orig_nbformat": 2,
    "kernelspec": {
      "name": "Python 3.7.9 64-bit ('eva5': conda)",
      "display_name": "Python 3.7.9 64-bit ('eva5': conda)",
      "metadata": {
        "interpreter": {
          "hash": "5b5327012014f22c808e07744e914e80320cd8a317b678c75418f8ce3efa9513"
        }
      }
    },
    "colab": {
      "name": "Session9_EVA5_Quiz.ipynb",
      "provenance": [],
      "collapsed_sections": []
    },
    "accelerator": "GPU",
    "widgets": {
      "application/vnd.jupyter.widget-state+json": {
        "ed8655f277ac4d4dbdd520bb3c2034dd": {
          "model_module": "@jupyter-widgets/controls",
          "model_name": "HBoxModel",
          "state": {
            "_view_name": "HBoxView",
            "_dom_classes": [],
            "_model_name": "HBoxModel",
            "_view_module": "@jupyter-widgets/controls",
            "_model_module_version": "1.5.0",
            "_view_count": null,
            "_view_module_version": "1.5.0",
            "box_style": "",
            "layout": "IPY_MODEL_31b1c861fa2f4d39ab5f6cd2c5d98225",
            "_model_module": "@jupyter-widgets/controls",
            "children": [
              "IPY_MODEL_6eea069e04644c688d3080dbb4a237e8",
              "IPY_MODEL_98cc2ded630e49faaf7143c4f7987b05"
            ]
          }
        },
        "31b1c861fa2f4d39ab5f6cd2c5d98225": {
          "model_module": "@jupyter-widgets/base",
          "model_name": "LayoutModel",
          "state": {
            "_view_name": "LayoutView",
            "grid_template_rows": null,
            "right": null,
            "justify_content": null,
            "_view_module": "@jupyter-widgets/base",
            "overflow": null,
            "_model_module_version": "1.2.0",
            "_view_count": null,
            "flex_flow": null,
            "width": null,
            "min_width": null,
            "border": null,
            "align_items": null,
            "bottom": null,
            "_model_module": "@jupyter-widgets/base",
            "top": null,
            "grid_column": null,
            "overflow_y": null,
            "overflow_x": null,
            "grid_auto_flow": null,
            "grid_area": null,
            "grid_template_columns": null,
            "flex": null,
            "_model_name": "LayoutModel",
            "justify_items": null,
            "grid_row": null,
            "max_height": null,
            "align_content": null,
            "visibility": null,
            "align_self": null,
            "height": null,
            "min_height": null,
            "padding": null,
            "grid_auto_rows": null,
            "grid_gap": null,
            "max_width": null,
            "order": null,
            "_view_module_version": "1.2.0",
            "grid_template_areas": null,
            "object_position": null,
            "object_fit": null,
            "grid_auto_columns": null,
            "margin": null,
            "display": null,
            "left": null
          }
        },
        "6eea069e04644c688d3080dbb4a237e8": {
          "model_module": "@jupyter-widgets/controls",
          "model_name": "FloatProgressModel",
          "state": {
            "_view_name": "ProgressView",
            "style": "IPY_MODEL_9380acfde3654c1e800c23c8c774a9f7",
            "_dom_classes": [],
            "description": "",
            "_model_name": "FloatProgressModel",
            "bar_style": "success",
            "max": 1,
            "_view_module": "@jupyter-widgets/controls",
            "_model_module_version": "1.5.0",
            "value": 1,
            "_view_count": null,
            "_view_module_version": "1.5.0",
            "orientation": "horizontal",
            "min": 0,
            "description_tooltip": null,
            "_model_module": "@jupyter-widgets/controls",
            "layout": "IPY_MODEL_094f1801605b446eb861964f2cbdfa75"
          }
        },
        "98cc2ded630e49faaf7143c4f7987b05": {
          "model_module": "@jupyter-widgets/controls",
          "model_name": "HTMLModel",
          "state": {
            "_view_name": "HTMLView",
            "style": "IPY_MODEL_01fa083184e84a80b95be9db551b2034",
            "_dom_classes": [],
            "description": "",
            "_model_name": "HTMLModel",
            "placeholder": "​",
            "_view_module": "@jupyter-widgets/controls",
            "_model_module_version": "1.5.0",
            "value": " 170500096/? [15:38&lt;00:00, 181715.83it/s]",
            "_view_count": null,
            "_view_module_version": "1.5.0",
            "description_tooltip": null,
            "_model_module": "@jupyter-widgets/controls",
            "layout": "IPY_MODEL_5169b432d59543cbb6adfa5332d54df7"
          }
        },
        "9380acfde3654c1e800c23c8c774a9f7": {
          "model_module": "@jupyter-widgets/controls",
          "model_name": "ProgressStyleModel",
          "state": {
            "_view_name": "StyleView",
            "_model_name": "ProgressStyleModel",
            "description_width": "initial",
            "_view_module": "@jupyter-widgets/base",
            "_model_module_version": "1.5.0",
            "_view_count": null,
            "_view_module_version": "1.2.0",
            "bar_color": null,
            "_model_module": "@jupyter-widgets/controls"
          }
        },
        "094f1801605b446eb861964f2cbdfa75": {
          "model_module": "@jupyter-widgets/base",
          "model_name": "LayoutModel",
          "state": {
            "_view_name": "LayoutView",
            "grid_template_rows": null,
            "right": null,
            "justify_content": null,
            "_view_module": "@jupyter-widgets/base",
            "overflow": null,
            "_model_module_version": "1.2.0",
            "_view_count": null,
            "flex_flow": null,
            "width": "20px",
            "min_width": null,
            "border": null,
            "align_items": null,
            "bottom": null,
            "_model_module": "@jupyter-widgets/base",
            "top": null,
            "grid_column": null,
            "overflow_y": null,
            "overflow_x": null,
            "grid_auto_flow": null,
            "grid_area": null,
            "grid_template_columns": null,
            "flex": null,
            "_model_name": "LayoutModel",
            "justify_items": null,
            "grid_row": null,
            "max_height": null,
            "align_content": null,
            "visibility": null,
            "align_self": null,
            "height": null,
            "min_height": null,
            "padding": null,
            "grid_auto_rows": null,
            "grid_gap": null,
            "max_width": null,
            "order": null,
            "_view_module_version": "1.2.0",
            "grid_template_areas": null,
            "object_position": null,
            "object_fit": null,
            "grid_auto_columns": null,
            "margin": null,
            "display": null,
            "left": null
          }
        },
        "01fa083184e84a80b95be9db551b2034": {
          "model_module": "@jupyter-widgets/controls",
          "model_name": "DescriptionStyleModel",
          "state": {
            "_view_name": "StyleView",
            "_model_name": "DescriptionStyleModel",
            "description_width": "",
            "_view_module": "@jupyter-widgets/base",
            "_model_module_version": "1.5.0",
            "_view_count": null,
            "_view_module_version": "1.2.0",
            "_model_module": "@jupyter-widgets/controls"
          }
        },
        "5169b432d59543cbb6adfa5332d54df7": {
          "model_module": "@jupyter-widgets/base",
          "model_name": "LayoutModel",
          "state": {
            "_view_name": "LayoutView",
            "grid_template_rows": null,
            "right": null,
            "justify_content": null,
            "_view_module": "@jupyter-widgets/base",
            "overflow": null,
            "_model_module_version": "1.2.0",
            "_view_count": null,
            "flex_flow": null,
            "width": null,
            "min_width": null,
            "border": null,
            "align_items": null,
            "bottom": null,
            "_model_module": "@jupyter-widgets/base",
            "top": null,
            "grid_column": null,
            "overflow_y": null,
            "overflow_x": null,
            "grid_auto_flow": null,
            "grid_area": null,
            "grid_template_columns": null,
            "flex": null,
            "_model_name": "LayoutModel",
            "justify_items": null,
            "grid_row": null,
            "max_height": null,
            "align_content": null,
            "visibility": null,
            "align_self": null,
            "height": null,
            "min_height": null,
            "padding": null,
            "grid_auto_rows": null,
            "grid_gap": null,
            "max_width": null,
            "order": null,
            "_view_module_version": "1.2.0",
            "grid_template_areas": null,
            "object_position": null,
            "object_fit": null,
            "grid_auto_columns": null,
            "margin": null,
            "display": null,
            "left": null
          }
        }
      }
    }
  },
  "cells": [
    {
      "cell_type": "code",
      "metadata": {
        "id": "fJVqVkwwsR7r",
        "outputId": "71dad91d-588d-47ef-c601-fb3a17cecc3a",
        "colab": {
          "base_uri": "https://localhost:8080/",
          "height": 1000
        }
      },
      "source": [
        "# Importing and installing from our private package\n",
        "! pip install git+https://github.com/firekind/athena"
      ],
      "execution_count": 3,
      "outputs": [
        {
          "output_type": "stream",
          "text": [
            "Collecting git+https://github.com/firekind/athena\n",
            "  Cloning https://github.com/firekind/athena to /tmp/pip-req-build-qrbmstwd\n",
            "  Running command git clone -q https://github.com/firekind/athena /tmp/pip-req-build-qrbmstwd\n",
            "Collecting tqdm~=4.48.2\n",
            "\u001b[?25l  Downloading https://files.pythonhosted.org/packages/28/7e/281edb5bc3274dfb894d90f4dbacfceaca381c2435ec6187a2c6f329aed7/tqdm-4.48.2-py2.py3-none-any.whl (68kB)\n",
            "\u001b[K     |████████████████████████████████| 71kB 4.7MB/s \n",
            "\u001b[?25hCollecting matplotlib~=3.3.1\n",
            "\u001b[?25l  Downloading https://files.pythonhosted.org/packages/cd/d6/8c4dfb23151d5a494c66ebbfdb5c8c433b44ec07fae52da5939fcda0943f/matplotlib-3.3.2-cp36-cp36m-manylinux1_x86_64.whl (11.6MB)\n",
            "\u001b[K     |████████████████████████████████| 11.6MB 259kB/s \n",
            "\u001b[?25hRequirement already satisfied: tensorboard~=2.3.0 in /usr/local/lib/python3.6/dist-packages (from athena==1.0.0) (2.3.0)\n",
            "Collecting albumentations~=0.4.6\n",
            "\u001b[?25l  Downloading https://files.pythonhosted.org/packages/92/33/1c459c2c9a4028ec75527eff88bc4e2d256555189f42af4baf4d7bd89233/albumentations-0.4.6.tar.gz (117kB)\n",
            "\u001b[K     |████████████████████████████████| 122kB 59.3MB/s \n",
            "\u001b[?25hCollecting opencv-python~=4.4.0.42\n",
            "\u001b[?25l  Downloading https://files.pythonhosted.org/packages/a2/72/134fdc8d766a6004ee96ce84446f38457a6345fc0ce85721326cbf2adc87/opencv_python-4.4.0.44-cp36-cp36m-manylinux2014_x86_64.whl (49.5MB)\n",
            "\u001b[K     |████████████████████████████████| 49.5MB 55kB/s \n",
            "\u001b[?25hRequirement already satisfied: numpy>=1.15 in /usr/local/lib/python3.6/dist-packages (from matplotlib~=3.3.1->athena==1.0.0) (1.18.5)\n",
            "Requirement already satisfied: pillow>=6.2.0 in /usr/local/lib/python3.6/dist-packages (from matplotlib~=3.3.1->athena==1.0.0) (7.0.0)\n",
            "Requirement already satisfied: kiwisolver>=1.0.1 in /usr/local/lib/python3.6/dist-packages (from matplotlib~=3.3.1->athena==1.0.0) (1.2.0)\n",
            "Requirement already satisfied: pyparsing!=2.0.4,!=2.1.2,!=2.1.6,>=2.0.3 in /usr/local/lib/python3.6/dist-packages (from matplotlib~=3.3.1->athena==1.0.0) (2.4.7)\n",
            "Requirement already satisfied: cycler>=0.10 in /usr/local/lib/python3.6/dist-packages (from matplotlib~=3.3.1->athena==1.0.0) (0.10.0)\n",
            "Requirement already satisfied: python-dateutil>=2.1 in /usr/local/lib/python3.6/dist-packages (from matplotlib~=3.3.1->athena==1.0.0) (2.8.1)\n",
            "Requirement already satisfied: certifi>=2020.06.20 in /usr/local/lib/python3.6/dist-packages (from matplotlib~=3.3.1->athena==1.0.0) (2020.6.20)\n",
            "Requirement already satisfied: six>=1.10.0 in /usr/local/lib/python3.6/dist-packages (from tensorboard~=2.3.0->athena==1.0.0) (1.15.0)\n",
            "Requirement already satisfied: grpcio>=1.24.3 in /usr/local/lib/python3.6/dist-packages (from tensorboard~=2.3.0->athena==1.0.0) (1.32.0)\n",
            "Requirement already satisfied: google-auth<2,>=1.6.3 in /usr/local/lib/python3.6/dist-packages (from tensorboard~=2.3.0->athena==1.0.0) (1.17.2)\n",
            "Requirement already satisfied: wheel>=0.26; python_version >= \"3\" in /usr/local/lib/python3.6/dist-packages (from tensorboard~=2.3.0->athena==1.0.0) (0.35.1)\n",
            "Requirement already satisfied: tensorboard-plugin-wit>=1.6.0 in /usr/local/lib/python3.6/dist-packages (from tensorboard~=2.3.0->athena==1.0.0) (1.7.0)\n",
            "Requirement already satisfied: setuptools>=41.0.0 in /usr/local/lib/python3.6/dist-packages (from tensorboard~=2.3.0->athena==1.0.0) (50.3.0)\n",
            "Requirement already satisfied: werkzeug>=0.11.15 in /usr/local/lib/python3.6/dist-packages (from tensorboard~=2.3.0->athena==1.0.0) (1.0.1)\n",
            "Requirement already satisfied: markdown>=2.6.8 in /usr/local/lib/python3.6/dist-packages (from tensorboard~=2.3.0->athena==1.0.0) (3.2.2)\n",
            "Requirement already satisfied: protobuf>=3.6.0 in /usr/local/lib/python3.6/dist-packages (from tensorboard~=2.3.0->athena==1.0.0) (3.12.4)\n",
            "Requirement already satisfied: google-auth-oauthlib<0.5,>=0.4.1 in /usr/local/lib/python3.6/dist-packages (from tensorboard~=2.3.0->athena==1.0.0) (0.4.1)\n",
            "Requirement already satisfied: absl-py>=0.4 in /usr/local/lib/python3.6/dist-packages (from tensorboard~=2.3.0->athena==1.0.0) (0.10.0)\n",
            "Requirement already satisfied: requests<3,>=2.21.0 in /usr/local/lib/python3.6/dist-packages (from tensorboard~=2.3.0->athena==1.0.0) (2.23.0)\n",
            "Requirement already satisfied: scipy in /usr/local/lib/python3.6/dist-packages (from albumentations~=0.4.6->athena==1.0.0) (1.4.1)\n",
            "Collecting imgaug>=0.4.0\n",
            "\u001b[?25l  Downloading https://files.pythonhosted.org/packages/66/b1/af3142c4a85cba6da9f4ebb5ff4e21e2616309552caca5e8acefe9840622/imgaug-0.4.0-py2.py3-none-any.whl (948kB)\n",
            "\u001b[K     |████████████████████████████████| 952kB 28.5MB/s \n",
            "\u001b[?25hRequirement already satisfied: PyYAML in /usr/local/lib/python3.6/dist-packages (from albumentations~=0.4.6->athena==1.0.0) (3.13)\n",
            "Requirement already satisfied: rsa<5,>=3.1.4; python_version >= \"3\" in /usr/local/lib/python3.6/dist-packages (from google-auth<2,>=1.6.3->tensorboard~=2.3.0->athena==1.0.0) (4.6)\n",
            "Requirement already satisfied: cachetools<5.0,>=2.0.0 in /usr/local/lib/python3.6/dist-packages (from google-auth<2,>=1.6.3->tensorboard~=2.3.0->athena==1.0.0) (4.1.1)\n",
            "Requirement already satisfied: pyasn1-modules>=0.2.1 in /usr/local/lib/python3.6/dist-packages (from google-auth<2,>=1.6.3->tensorboard~=2.3.0->athena==1.0.0) (0.2.8)\n",
            "Requirement already satisfied: importlib-metadata; python_version < \"3.8\" in /usr/local/lib/python3.6/dist-packages (from markdown>=2.6.8->tensorboard~=2.3.0->athena==1.0.0) (1.7.0)\n",
            "Requirement already satisfied: requests-oauthlib>=0.7.0 in /usr/local/lib/python3.6/dist-packages (from google-auth-oauthlib<0.5,>=0.4.1->tensorboard~=2.3.0->athena==1.0.0) (1.3.0)\n",
            "Requirement already satisfied: urllib3!=1.25.0,!=1.25.1,<1.26,>=1.21.1 in /usr/local/lib/python3.6/dist-packages (from requests<3,>=2.21.0->tensorboard~=2.3.0->athena==1.0.0) (1.24.3)\n",
            "Requirement already satisfied: idna<3,>=2.5 in /usr/local/lib/python3.6/dist-packages (from requests<3,>=2.21.0->tensorboard~=2.3.0->athena==1.0.0) (2.10)\n",
            "Requirement already satisfied: chardet<4,>=3.0.2 in /usr/local/lib/python3.6/dist-packages (from requests<3,>=2.21.0->tensorboard~=2.3.0->athena==1.0.0) (3.0.4)\n",
            "Requirement already satisfied: scikit-image>=0.14.2 in /usr/local/lib/python3.6/dist-packages (from imgaug>=0.4.0->albumentations~=0.4.6->athena==1.0.0) (0.16.2)\n",
            "Requirement already satisfied: imageio in /usr/local/lib/python3.6/dist-packages (from imgaug>=0.4.0->albumentations~=0.4.6->athena==1.0.0) (2.4.1)\n",
            "Requirement already satisfied: Shapely in /usr/local/lib/python3.6/dist-packages (from imgaug>=0.4.0->albumentations~=0.4.6->athena==1.0.0) (1.7.1)\n",
            "Requirement already satisfied: pyasn1>=0.1.3 in /usr/local/lib/python3.6/dist-packages (from rsa<5,>=3.1.4; python_version >= \"3\"->google-auth<2,>=1.6.3->tensorboard~=2.3.0->athena==1.0.0) (0.4.8)\n",
            "Requirement already satisfied: zipp>=0.5 in /usr/local/lib/python3.6/dist-packages (from importlib-metadata; python_version < \"3.8\"->markdown>=2.6.8->tensorboard~=2.3.0->athena==1.0.0) (3.1.0)\n",
            "Requirement already satisfied: oauthlib>=3.0.0 in /usr/local/lib/python3.6/dist-packages (from requests-oauthlib>=0.7.0->google-auth-oauthlib<0.5,>=0.4.1->tensorboard~=2.3.0->athena==1.0.0) (3.1.0)\n",
            "Requirement already satisfied: networkx>=2.0 in /usr/local/lib/python3.6/dist-packages (from scikit-image>=0.14.2->imgaug>=0.4.0->albumentations~=0.4.6->athena==1.0.0) (2.5)\n",
            "Requirement already satisfied: PyWavelets>=0.4.0 in /usr/local/lib/python3.6/dist-packages (from scikit-image>=0.14.2->imgaug>=0.4.0->albumentations~=0.4.6->athena==1.0.0) (1.1.1)\n",
            "Requirement already satisfied: decorator>=4.3.0 in /usr/local/lib/python3.6/dist-packages (from networkx>=2.0->scikit-image>=0.14.2->imgaug>=0.4.0->albumentations~=0.4.6->athena==1.0.0) (4.4.2)\n",
            "Building wheels for collected packages: athena, albumentations\n",
            "  Building wheel for athena (setup.py) ... \u001b[?25l\u001b[?25hdone\n",
            "  Created wheel for athena: filename=athena-1.0.0-cp36-none-any.whl size=38568 sha256=42be8bdd3e6b59dbb89ec7b5de924563700ca4ce108ae1875f79440491881f9a\n",
            "  Stored in directory: /tmp/pip-ephem-wheel-cache-f23o7sja/wheels/36/d3/7b/d9500a9af2498abc5d48d60c7db37c1456ee745049da352e0b\n",
            "  Building wheel for albumentations (setup.py) ... \u001b[?25l\u001b[?25hdone\n",
            "  Created wheel for albumentations: filename=albumentations-0.4.6-cp36-none-any.whl size=65165 sha256=945531ddc19fce0c3672dedfaf014e99642b37e5b24043de00f8b544c797a979\n",
            "  Stored in directory: /root/.cache/pip/wheels/c7/f4/89/56d1bee5c421c36c1a951eeb4adcc32fbb82f5344c086efa14\n",
            "Successfully built athena albumentations\n",
            "Installing collected packages: tqdm, matplotlib, opencv-python, imgaug, albumentations, athena\n",
            "  Found existing installation: tqdm 4.41.1\n",
            "    Uninstalling tqdm-4.41.1:\n",
            "      Successfully uninstalled tqdm-4.41.1\n",
            "  Found existing installation: matplotlib 3.2.2\n",
            "    Uninstalling matplotlib-3.2.2:\n",
            "      Successfully uninstalled matplotlib-3.2.2\n",
            "  Found existing installation: opencv-python 4.1.2.30\n",
            "    Uninstalling opencv-python-4.1.2.30:\n",
            "      Successfully uninstalled opencv-python-4.1.2.30\n",
            "  Found existing installation: imgaug 0.2.9\n",
            "    Uninstalling imgaug-0.2.9:\n",
            "      Successfully uninstalled imgaug-0.2.9\n",
            "  Found existing installation: albumentations 0.1.12\n",
            "    Uninstalling albumentations-0.1.12:\n",
            "      Successfully uninstalled albumentations-0.1.12\n",
            "Successfully installed albumentations-0.4.6 athena-1.0.0 imgaug-0.4.0 matplotlib-3.3.2 opencv-python-4.4.0.44 tqdm-4.48.2\n"
          ],
          "name": "stdout"
        },
        {
          "output_type": "display_data",
          "data": {
            "application/vnd.colab-display-data+json": {
              "pip_warning": {
                "packages": [
                  "matplotlib",
                  "mpl_toolkits"
                ]
              }
            }
          },
          "metadata": {
            "tags": []
          }
        }
      ]
    },
    {
      "cell_type": "code",
      "metadata": {
        "id": "MqH5k3XEpGZK"
      },
      "source": [
        "import torch\n",
        "import torch.optim as optim\n",
        "import torch.nn as nn\n",
        "import torch.nn.functional as F\n",
        "from torch.optim.lr_scheduler import StepLR\n",
        "from torchsummary import summary\n",
        "from athena import Experiment, ClassificationSolver, datasets\n",
        "from datetime import datetime"
      ],
      "execution_count": 4,
      "outputs": []
    },
    {
      "cell_type": "code",
      "metadata": {
        "tags": [],
        "id": "wfCylzbPpGZb",
        "outputId": "8829f23b-91ad-47ea-9db9-5208b9ebba37",
        "colab": {
          "base_uri": "https://localhost:8080/",
          "height": 34
        }
      },
      "source": [
        "print(\"Current Date/Time: \", datetime.utcnow())"
      ],
      "execution_count": 57,
      "outputs": [
        {
          "output_type": "stream",
          "text": [
            "Current Date/Time:  2020-09-26 22:18:37.015882\n"
          ],
          "name": "stdout"
        }
      ]
    },
    {
      "cell_type": "code",
      "metadata": {
        "id": "CjSkklwNsvrr"
      },
      "source": [
        "# Configuring device\n",
        "device = \"cuda\" if torch.cuda.is_available() else \"cpu\"\n",
        "batch_size = 128 if torch.cuda.is_available() else 64\n",
        "epochs = 30"
      ],
      "execution_count": 6,
      "outputs": []
    },
    {
      "cell_type": "code",
      "metadata": {
        "id": "vU4EgQzdsvuo"
      },
      "source": [
        "class Model(nn.Module):\n",
        "    def __init__(self):\n",
        "        dropout_value = 0.1\n",
        "        super(Model, self).__init__()\n",
        "        self.x2 = nn.Sequential(\n",
        "            nn.Conv2d(3, 16, kernel_size=3, padding=1),\n",
        "            nn.ReLU(),\n",
        "            nn.BatchNorm2d(16),\n",
        "            nn.Dropout2d(dropout_value)\n",
        "        )\n",
        "        self.x3 = nn.Sequential(\n",
        "            nn.Conv2d(19, 32, kernel_size=3, padding=1),\n",
        "            nn.ReLU(),\n",
        "            nn.BatchNorm2d(32),\n",
        "            nn.Dropout2d(dropout_value)\n",
        "        )\n",
        "        self.x4 = nn.MaxPool2d(2, 2)\n",
        "\n",
        "        self.x5 = nn.Sequential(\n",
        "            nn.Conv2d(51, 16, kernel_size=1),\n",
        "            nn.ReLU(),\n",
        "            nn.BatchNorm2d(16),\n",
        "        )\n",
        "        self.x6 = nn.Sequential(\n",
        "            nn.Conv2d(67, 67, kernel_size=3, padding=1),\n",
        "            nn.ReLU(),\n",
        "            nn.BatchNorm2d(67),\n",
        "            nn.Dropout2d(dropout_value)\n",
        "        )\n",
        "        self.x7 = nn.Sequential(\n",
        "            nn.Conv2d(134, 134, kernel_size=3, padding=1),\n",
        "            nn.ReLU(),\n",
        "            nn.BatchNorm2d(134),\n",
        "            nn.Dropout2d(dropout_value)\n",
        "        )\n",
        "        self.x8 = nn.MaxPool2d(2, 2)\n",
        "\n",
        "        self.x9 = nn.Sequential(\n",
        "            nn.Conv2d(217, 64, kernel_size=1),\n",
        "            nn.ReLU(),\n",
        "            nn.BatchNorm2d(64),\n",
        "        )\n",
        "        self.x10 = nn.Sequential(\n",
        "            nn.Conv2d(281, 281, kernel_size=3, padding=1),\n",
        "            nn.ReLU(),\n",
        "            nn.BatchNorm2d(281),\n",
        "            nn.Dropout2d(dropout_value)\n",
        "        )\n",
        "        self.x11 = nn.Sequential(\n",
        "            nn.Conv2d(562, 128, kernel_size=1),\n",
        "        )\n",
        "\n",
        "        self.x12 = nn.AdaptiveAvgPool2d((1, 1))\n",
        "        self.x13 = nn.Conv2d(128, 10, kernel_size = 1)\n",
        "\n",
        "    def forward(self, x):\n",
        "        o_x2 = self.x2(x)\n",
        "        o_x3 = self.x3(torch.cat([x, o_x2], dim=1))\n",
        "        o_x4 = self.x4(torch.cat([x, o_x2, o_x3], dim=1)) \n",
        "\n",
        "        o_x5 = self.x5(o_x4) \n",
        "        o_x6 = self.x6(torch.cat([o_x4, o_x5], dim=1))\n",
        "        o_x7 = self.x7(torch.cat([o_x4, o_x5, o_x6], dim=1)) \n",
        "        o_x8 = self.x8(torch.cat([o_x5, o_x6, o_x7], dim=1)) \n",
        "\n",
        "        o_x9 = self.x9(o_x8) \n",
        "        o_x10 = self.x10(torch.cat([o_x8, o_x9], dim=1)) \n",
        "        o_x11 = self.x11(torch.cat([o_x8, o_x9, o_x10], dim=1)) \n",
        "        o_x12 = self.x12(o_x11)\n",
        "        o_x13 = self.x13(o_x12)\n",
        "        ox_final = o_x13.view(-1, 10)\n",
        "\n",
        "        return F.log_softmax(ox_final)"
      ],
      "execution_count": 47,
      "outputs": []
    },
    {
      "cell_type": "code",
      "metadata": {
        "tags": [],
        "id": "JNozQnxmpGZu",
        "outputId": "35d0fb26-8b2d-4970-bc37-72c29a1818c8",
        "colab": {
          "base_uri": "https://localhost:8080/",
          "height": 819
        }
      },
      "source": [
        "summary(Model().to(device), input_size=(3, 32, 32))"
      ],
      "execution_count": 48,
      "outputs": [
        {
          "output_type": "stream",
          "text": [
            "----------------------------------------------------------------\n",
            "        Layer (type)               Output Shape         Param #\n",
            "================================================================\n",
            "            Conv2d-1           [-1, 16, 32, 32]             448\n",
            "              ReLU-2           [-1, 16, 32, 32]               0\n",
            "       BatchNorm2d-3           [-1, 16, 32, 32]              32\n",
            "         Dropout2d-4           [-1, 16, 32, 32]               0\n",
            "            Conv2d-5           [-1, 32, 32, 32]           5,504\n",
            "              ReLU-6           [-1, 32, 32, 32]               0\n",
            "       BatchNorm2d-7           [-1, 32, 32, 32]              64\n",
            "         Dropout2d-8           [-1, 32, 32, 32]               0\n",
            "         MaxPool2d-9           [-1, 51, 16, 16]               0\n",
            "           Conv2d-10           [-1, 16, 16, 16]             832\n",
            "             ReLU-11           [-1, 16, 16, 16]               0\n",
            "      BatchNorm2d-12           [-1, 16, 16, 16]              32\n",
            "           Conv2d-13           [-1, 67, 16, 16]          40,468\n",
            "             ReLU-14           [-1, 67, 16, 16]               0\n",
            "      BatchNorm2d-15           [-1, 67, 16, 16]             134\n",
            "        Dropout2d-16           [-1, 67, 16, 16]               0\n",
            "           Conv2d-17          [-1, 134, 16, 16]         161,738\n",
            "             ReLU-18          [-1, 134, 16, 16]               0\n",
            "      BatchNorm2d-19          [-1, 134, 16, 16]             268\n",
            "        Dropout2d-20          [-1, 134, 16, 16]               0\n",
            "        MaxPool2d-21            [-1, 217, 8, 8]               0\n",
            "           Conv2d-22             [-1, 64, 8, 8]          13,952\n",
            "             ReLU-23             [-1, 64, 8, 8]               0\n",
            "      BatchNorm2d-24             [-1, 64, 8, 8]             128\n",
            "           Conv2d-25            [-1, 281, 8, 8]         710,930\n",
            "             ReLU-26            [-1, 281, 8, 8]               0\n",
            "      BatchNorm2d-27            [-1, 281, 8, 8]             562\n",
            "        Dropout2d-28            [-1, 281, 8, 8]               0\n",
            "           Conv2d-29            [-1, 128, 8, 8]          72,064\n",
            "AdaptiveAvgPool2d-30            [-1, 128, 1, 1]               0\n",
            "           Conv2d-31             [-1, 10, 1, 1]           1,290\n",
            "================================================================\n",
            "Total params: 1,008,446\n",
            "Trainable params: 1,008,446\n",
            "Non-trainable params: 0\n",
            "----------------------------------------------------------------\n",
            "Input size (MB): 0.01\n",
            "Forward/backward pass size (MB): 4.08\n",
            "Params size (MB): 3.85\n",
            "Estimated Total Size (MB): 7.93\n",
            "----------------------------------------------------------------\n"
          ],
          "name": "stdout"
        },
        {
          "output_type": "stream",
          "text": [
            "/usr/local/lib/python3.6/dist-packages/ipykernel_launcher.py:76: UserWarning: Implicit dimension choice for log_softmax has been deprecated. Change the call to include dim=X as an argument.\n"
          ],
          "name": "stderr"
        }
      ]
    },
    {
      "cell_type": "code",
      "metadata": {
        "tags": [],
        "id": "v8LJHaPxpGZ5",
        "outputId": "2a219411-8dc4-46c1-908d-a77c1e7b405b",
        "colab": {
          "base_uri": "https://localhost:8080/",
          "height": 101,
          "referenced_widgets": [
            "ed8655f277ac4d4dbdd520bb3c2034dd",
            "31b1c861fa2f4d39ab5f6cd2c5d98225",
            "6eea069e04644c688d3080dbb4a237e8",
            "98cc2ded630e49faaf7143c4f7987b05",
            "9380acfde3654c1e800c23c8c774a9f7",
            "094f1801605b446eb861964f2cbdfa75",
            "01fa083184e84a80b95be9db551b2034",
            "5169b432d59543cbb6adfa5332d54df7"
          ]
        }
      },
      "source": [
        "exp = (\n",
        "    Experiment(\"QuizDNN\")\n",
        "    .model(Model())\n",
        "    .solver(ClassificationSolver)\n",
        "        .epochs(40)\n",
        "        .optimizer(optim.SGD, lr=0.05, momentum=0.9)\n",
        "        .scheduler(StepLR, step_size=8, gamma=0.1)\n",
        "        .train_loader(\n",
        "            datasets.cifar10()\n",
        "            .batch_size(128)\n",
        "            .train()\n",
        "            .use_default_transforms()\n",
        "            .build()\n",
        "        )\n",
        "        .test_loader(\n",
        "            datasets.cifar10()\n",
        "            .batch_size(128)\n",
        "            .train()\n",
        "            .use_default_transforms()\n",
        "            .build()\n",
        "        )\n",
        "        .device(\"cuda\")\n",
        "        .build()\n",
        "    .build()\n",
        ")"
      ],
      "execution_count": 49,
      "outputs": [
        {
          "output_type": "stream",
          "text": [
            "Downloading https://www.cs.toronto.edu/~kriz/cifar-10-python.tar.gz to ./data/cifar-10-python.tar.gz\n"
          ],
          "name": "stdout"
        },
        {
          "output_type": "display_data",
          "data": {
            "application/vnd.jupyter.widget-view+json": {
              "model_id": "ed8655f277ac4d4dbdd520bb3c2034dd",
              "version_minor": 0,
              "version_major": 2
            },
            "text/plain": [
              "HBox(children=(FloatProgress(value=1.0, bar_style='info', layout=Layout(width='20px'), max=1.0), HTML(value=''…"
            ]
          },
          "metadata": {
            "tags": []
          }
        },
        {
          "output_type": "stream",
          "text": [
            "Extracting ./data/cifar-10-python.tar.gz to ./data\n",
            "Files already downloaded and verified\n"
          ],
          "name": "stdout"
        }
      ]
    },
    {
      "cell_type": "code",
      "metadata": {
        "tags": [],
        "id": "2-zh32EnpGaA",
        "outputId": "ee7fb827-78b8-4621-8854-20ee59eac5a1",
        "colab": {
          "base_uri": "https://localhost:8080/",
          "height": 1000
        }
      },
      "source": [
        "exp.run()"
      ],
      "execution_count": 50,
      "outputs": [
        {
          "output_type": "stream",
          "text": [
            "\u001b[1m\u001b[92m=> Running experiment: QuizDNN\u001b[0m\n",
            "\u001b[1m\u001b[93mWarning:\u001b[0m Loss function not specified. Using nll loss.\n",
            "Epoch: 1 / 40\n",
            "  2/391 [..............................] - ETA: 1:25 - train loss: 2.2091 - train accuracy: 15.1042"
          ],
          "name": "stdout"
        },
        {
          "output_type": "stream",
          "text": [
            "/usr/local/lib/python3.6/dist-packages/ipykernel_launcher.py:76: UserWarning: Implicit dimension choice for log_softmax has been deprecated. Change the call to include dim=X as an argument.\n"
          ],
          "name": "stderr"
        },
        {
          "output_type": "stream",
          "text": [
            "391/391 [==============================] - 14s 37ms/step - train loss: 1.6091 - train accuracy: 40.7600\n",
            "Test set: Average loss: 1.7387, Accuracy: 20400/50000 (40.80%)\n",
            "\n",
            "Epoch: 2 / 40\n",
            "391/391 [==============================] - 14s 37ms/step - train loss: 1.3218 - train accuracy: 52.3160\n",
            "Test set: Average loss: 1.2105, Accuracy: 28424/50000 (56.85%)\n",
            "\n",
            "Epoch: 3 / 40\n",
            "391/391 [==============================] - 15s 37ms/step - train loss: 1.1606 - train accuracy: 58.4700\n",
            "Test set: Average loss: 1.1383, Accuracy: 30449/50000 (60.90%)\n",
            "\n",
            "Epoch: 4 / 40\n",
            "391/391 [==============================] - 14s 37ms/step - train loss: 1.0642 - train accuracy: 62.6100\n",
            "Test set: Average loss: 1.1501, Accuracy: 29742/50000 (59.48%)\n",
            "\n",
            "Epoch: 5 / 40\n",
            "391/391 [==============================] - 14s 37ms/step - train loss: 1.0000 - train accuracy: 64.6380\n",
            "Test set: Average loss: 1.0615, Accuracy: 31676/50000 (63.35%)\n",
            "\n",
            "Epoch: 6 / 40\n",
            "391/391 [==============================] - 14s 37ms/step - train loss: 0.9262 - train accuracy: 67.4140\n",
            "Test set: Average loss: 0.9257, Accuracy: 33866/50000 (67.73%)\n",
            "\n",
            "Epoch: 7 / 40\n",
            "391/391 [==============================] - 14s 37ms/step - train loss: 0.8728 - train accuracy: 69.0140\n",
            "Test set: Average loss: 0.7997, Accuracy: 37036/50000 (74.07%)\n",
            "\n",
            "Epoch: 8 / 40\n",
            "391/391 [==============================] - 14s 37ms/step - train loss: 0.8267 - train accuracy: 70.8740\n",
            "Test set: Average loss: 1.0588, Accuracy: 32200/50000 (64.40%)\n",
            "\n",
            "Epoch: 9 / 40\n",
            "391/391 [==============================] - 14s 37ms/step - train loss: 0.6634 - train accuracy: 76.9940\n",
            "Test set: Average loss: 0.5546, Accuracy: 40632/50000 (81.26%)\n",
            "\n",
            "Epoch: 10 / 40\n",
            "391/391 [==============================] - 14s 37ms/step - train loss: 0.6170 - train accuracy: 78.4140\n",
            "Test set: Average loss: 0.5425, Accuracy: 41290/50000 (82.58%)\n",
            "\n",
            "Epoch: 11 / 40\n",
            "391/391 [==============================] - 14s 37ms/step - train loss: 0.5929 - train accuracy: 79.2340\n",
            "Test set: Average loss: 0.4907, Accuracy: 41730/50000 (83.46%)\n",
            "\n",
            "Epoch: 12 / 40\n",
            "391/391 [==============================] - 14s 37ms/step - train loss: 0.5741 - train accuracy: 79.9920\n",
            "Test set: Average loss: 0.4776, Accuracy: 42012/50000 (84.02%)\n",
            "\n",
            "Epoch: 13 / 40\n",
            "391/391 [==============================] - 14s 37ms/step - train loss: 0.5549 - train accuracy: 80.6300\n",
            "Test set: Average loss: 0.4501, Accuracy: 42424/50000 (84.85%)\n",
            "\n",
            "Epoch: 14 / 40\n",
            "391/391 [==============================] - 14s 37ms/step - train loss: 0.5399 - train accuracy: 81.1460\n",
            "Test set: Average loss: 0.4431, Accuracy: 42833/50000 (85.67%)\n",
            "\n",
            "Epoch: 15 / 40\n",
            "391/391 [==============================] - 14s 37ms/step - train loss: 0.5250 - train accuracy: 81.4860\n",
            "Test set: Average loss: 0.4103, Accuracy: 43165/50000 (86.33%)\n",
            "\n",
            "Epoch: 16 / 40\n",
            "391/391 [==============================] - 14s 37ms/step - train loss: 0.5138 - train accuracy: 81.8580\n",
            "Test set: Average loss: 0.4073, Accuracy: 43255/50000 (86.51%)\n",
            "\n",
            "Epoch: 17 / 40\n",
            "391/391 [==============================] - 14s 37ms/step - train loss: 0.4789 - train accuracy: 83.4360\n",
            "Test set: Average loss: 0.4166, Accuracy: 43704/50000 (87.41%)\n",
            "\n",
            "Epoch: 18 / 40\n",
            "391/391 [==============================] - 14s 37ms/step - train loss: 0.4748 - train accuracy: 83.5480\n",
            "Test set: Average loss: 0.3790, Accuracy: 43842/50000 (87.68%)\n",
            "\n",
            "Epoch: 19 / 40\n",
            "391/391 [==============================] - 14s 37ms/step - train loss: 0.4697 - train accuracy: 83.6740\n",
            "Test set: Average loss: 0.3851, Accuracy: 43920/50000 (87.84%)\n",
            "\n",
            "Epoch: 20 / 40\n",
            "391/391 [==============================] - 14s 37ms/step - train loss: 0.4724 - train accuracy: 83.4220\n",
            "Test set: Average loss: 0.3696, Accuracy: 43964/50000 (87.93%)\n",
            "\n",
            "Epoch: 21 / 40\n",
            "391/391 [==============================] - 14s 37ms/step - train loss: 0.4668 - train accuracy: 83.7580\n",
            "Test set: Average loss: 0.3701, Accuracy: 44001/50000 (88.00%)\n",
            "\n",
            "Epoch: 22 / 40\n",
            "391/391 [==============================] - 14s 37ms/step - train loss: 0.4629 - train accuracy: 83.8960\n",
            "Test set: Average loss: 0.3658, Accuracy: 44073/50000 (88.15%)\n",
            "\n",
            "Epoch: 23 / 40\n",
            "391/391 [==============================] - 15s 37ms/step - train loss: 0.4632 - train accuracy: 83.7740\n",
            "Test set: Average loss: 0.3629, Accuracy: 44090/50000 (88.18%)\n",
            "\n",
            "Epoch: 24 / 40\n",
            "391/391 [==============================] - 14s 37ms/step - train loss: 0.4626 - train accuracy: 83.9060\n",
            "Test set: Average loss: 0.3625, Accuracy: 44172/50000 (88.34%)\n",
            "\n",
            "Epoch: 25 / 40\n",
            "391/391 [==============================] - 14s 37ms/step - train loss: 0.4552 - train accuracy: 84.0800\n",
            "Test set: Average loss: 0.3615, Accuracy: 44128/50000 (88.26%)\n",
            "\n",
            "Epoch: 26 / 40\n",
            "391/391 [==============================] - 14s 37ms/step - train loss: 0.4531 - train accuracy: 84.2600\n",
            "Test set: Average loss: 0.3602, Accuracy: 44176/50000 (88.35%)\n",
            "\n",
            "Epoch: 27 / 40\n",
            "391/391 [==============================] - 14s 37ms/step - train loss: 0.4540 - train accuracy: 84.1620\n",
            "Test set: Average loss: 0.3658, Accuracy: 44131/50000 (88.26%)\n",
            "\n",
            "Epoch: 28 / 40\n",
            "391/391 [==============================] - 14s 37ms/step - train loss: 0.4555 - train accuracy: 84.1160\n",
            "Test set: Average loss: 0.3575, Accuracy: 44195/50000 (88.39%)\n",
            "\n",
            "Epoch: 29 / 40\n",
            "391/391 [==============================] - 14s 37ms/step - train loss: 0.4575 - train accuracy: 84.0360\n",
            "Test set: Average loss: 0.3573, Accuracy: 44218/50000 (88.44%)\n",
            "\n",
            "Epoch: 30 / 40\n",
            "391/391 [==============================] - 14s 37ms/step - train loss: 0.4563 - train accuracy: 84.1920\n",
            "Test set: Average loss: 0.3611, Accuracy: 44166/50000 (88.33%)\n",
            "\n",
            "Epoch: 31 / 40\n",
            "391/391 [==============================] - 14s 37ms/step - train loss: 0.4530 - train accuracy: 84.0900\n",
            "Test set: Average loss: 0.3622, Accuracy: 44202/50000 (88.40%)\n",
            "\n",
            "Epoch: 32 / 40\n",
            "391/391 [==============================] - 14s 37ms/step - train loss: 0.4544 - train accuracy: 84.1280\n",
            "Test set: Average loss: 0.3626, Accuracy: 44216/50000 (88.43%)\n",
            "\n",
            "Epoch: 33 / 40\n",
            "391/391 [==============================] - 14s 37ms/step - train loss: 0.4538 - train accuracy: 84.2020\n",
            "Test set: Average loss: 0.3708, Accuracy: 44141/50000 (88.28%)\n",
            "\n",
            "Epoch: 34 / 40\n",
            "391/391 [==============================] - 14s 37ms/step - train loss: 0.4519 - train accuracy: 84.2380\n",
            "Test set: Average loss: 0.3660, Accuracy: 44176/50000 (88.35%)\n",
            "\n",
            "Epoch: 35 / 40\n",
            "391/391 [==============================] - 14s 37ms/step - train loss: 0.4533 - train accuracy: 84.1720\n",
            "Test set: Average loss: 0.3672, Accuracy: 44210/50000 (88.42%)\n",
            "\n",
            "Epoch: 36 / 40\n",
            "391/391 [==============================] - 14s 37ms/step - train loss: 0.4545 - train accuracy: 84.0140\n",
            "Test set: Average loss: 0.3769, Accuracy: 44126/50000 (88.25%)\n",
            "\n",
            "Epoch: 37 / 40\n",
            "391/391 [==============================] - 14s 37ms/step - train loss: 0.4550 - train accuracy: 84.0700\n",
            "Test set: Average loss: 0.3656, Accuracy: 44159/50000 (88.32%)\n",
            "\n",
            "Epoch: 38 / 40\n",
            "391/391 [==============================] - 14s 37ms/step - train loss: 0.4542 - train accuracy: 84.1080\n",
            "Test set: Average loss: 0.3581, Accuracy: 44198/50000 (88.40%)\n",
            "\n",
            "Epoch: 39 / 40\n",
            "391/391 [==============================] - 14s 37ms/step - train loss: 0.4541 - train accuracy: 84.1360\n",
            "Test set: Average loss: 0.3784, Accuracy: 44163/50000 (88.33%)\n",
            "\n",
            "Epoch: 40 / 40\n",
            "391/391 [==============================] - 14s 37ms/step - train loss: 0.4548 - train accuracy: 84.2100\n",
            "Test set: Average loss: 0.3659, Accuracy: 44187/50000 (88.37%)\n",
            "\n"
          ],
          "name": "stdout"
        }
      ]
    },
    {
      "cell_type": "code",
      "metadata": {
        "id": "CT9DP-Que6l4"
      },
      "source": [
        "## Crossed Validation Accuracy of 75% from 9th epoch onwards."
      ],
      "execution_count": 58,
      "outputs": []
    },
    {
      "cell_type": "code",
      "metadata": {
        "id": "6dcuNnTmgcBM"
      },
      "source": [
        ""
      ],
      "execution_count": null,
      "outputs": []
    }
  ]
}